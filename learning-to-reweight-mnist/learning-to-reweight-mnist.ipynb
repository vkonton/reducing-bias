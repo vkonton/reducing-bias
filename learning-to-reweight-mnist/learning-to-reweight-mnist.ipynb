{
 "cells": [
  {
   "cell_type": "markdown",
   "metadata": {},
   "source": [
    "# Learning to Reweight in MNIST"
   ]
  },
  {
   "cell_type": "code",
   "execution_count": 1,
   "metadata": {},
   "outputs": [],
   "source": [
    "import torch\n",
    "import torch.nn as nn\n",
    "import torch.nn.functional as F\n",
    "from tqdm import tqdm\n",
    "from torchvision import datasets, models, transforms\n",
    "import matplotlib.pyplot as plt\n",
    "import IPython\n",
    "\n",
    "%matplotlib inline"
   ]
  },
  {
   "cell_type": "code",
   "execution_count": 2,
   "metadata": {},
   "outputs": [],
   "source": [
    "class Net(nn.Module):\n",
    "    def __init__(self):\n",
    "        super(Net, self).__init__()\n",
    "        self.conv1 = nn.Conv2d(1, 20, 5, 1)\n",
    "        self.conv2 = nn.Conv2d(20, 50, 5, 1)\n",
    "        self.fc1 = nn.Linear(4*4*50, 500)\n",
    "        self.fc2 = nn.Linear(500, 1)\n",
    "\n",
    "    def forward(self, x):\n",
    "        x = F.relu(self.conv1(x))\n",
    "        x = F.max_pool2d(x, 2, 2)\n",
    "        x = F.relu(self.conv2(x))\n",
    "        x = F.max_pool2d(x, 2, 2)\n",
    "        x = x.view(-1, 4*4*50)\n",
    "        x = F.relu(self.fc1(x))\n",
    "        x = self.fc2(x)\n",
    "        return x"
   ]
  },
  {
   "cell_type": "code",
   "execution_count": 3,
   "metadata": {},
   "outputs": [
    {
     "name": "stderr",
     "output_type": "stream",
     "text": [
      "  0%|          | 0/9912422 [00:00<?, ?it/s]"
     ]
    },
    {
     "name": "stdout",
     "output_type": "stream",
     "text": [
      "Downloading http://yann.lecun.com/exdb/mnist/train-images-idx3-ubyte.gz to data/MNIST/raw/train-images-idx3-ubyte.gz\n"
     ]
    },
    {
     "name": "stderr",
     "output_type": "stream",
     "text": [
      "9920512it [00:00, 29168227.43it/s]                             \n"
     ]
    },
    {
     "name": "stdout",
     "output_type": "stream",
     "text": [
      "Extracting data/MNIST/raw/train-images-idx3-ubyte.gz\n"
     ]
    },
    {
     "name": "stderr",
     "output_type": "stream",
     "text": [
      "32768it [00:00, 828274.82it/s]\n",
      "1654784it [00:00, 11661380.60it/s]                           "
     ]
    },
    {
     "name": "stdout",
     "output_type": "stream",
     "text": [
      "Downloading http://yann.lecun.com/exdb/mnist/train-labels-idx1-ubyte.gz to data/MNIST/raw/train-labels-idx1-ubyte.gz\n",
      "Extracting data/MNIST/raw/train-labels-idx1-ubyte.gz\n",
      "Downloading http://yann.lecun.com/exdb/mnist/t10k-images-idx3-ubyte.gz to data/MNIST/raw/t10k-images-idx3-ubyte.gz\n",
      "Extracting data/MNIST/raw/t10k-images-idx3-ubyte.gz\n"
     ]
    },
    {
     "name": "stderr",
     "output_type": "stream",
     "text": [
      "\n",
      "8192it [00:00, 378290.40it/s]\n"
     ]
    },
    {
     "name": "stdout",
     "output_type": "stream",
     "text": [
      "Downloading http://yann.lecun.com/exdb/mnist/t10k-labels-idx1-ubyte.gz to data/MNIST/raw/t10k-labels-idx1-ubyte.gz\n",
      "Extracting data/MNIST/raw/t10k-labels-idx1-ubyte.gz\n",
      "Processing...\n",
      "Done!\n"
     ]
    },
    {
     "name": "stderr",
     "output_type": "stream",
     "text": [
      "/home/vkonton/.local/lib/python3.6/site-packages/torchvision/datasets/mnist.py:43: UserWarning: train_labels has been renamed targets\n",
      "  warnings.warn(\"train_labels has been renamed targets\")\n"
     ]
    }
   ],
   "source": [
    "transform = transforms.Compose([transforms.ToTensor(),transforms.Normalize((0.1307,), (0.3081,))])\n",
    "trn_set_full = datasets.MNIST(\"data\", train=True, transform=transform, download=True)\n",
    "trn_indices = torch.cat([torch.arange(len(trn_set_full))[ trn_set_full.train_labels  == i ][:500*i] for i in range(10)])\n",
    "trn_set = torch.utils.data.Subset( trn_set_full, trn_indices )\n",
    "tst_set = datasets.MNIST(\"data\", train=False, transform=transform, download=True)"
   ]
  },
  {
   "cell_type": "code",
   "execution_count": 4,
   "metadata": {},
   "outputs": [],
   "source": [
    "trn_loader = torch.utils.data.DataLoader(trn_set, batch_size=64, shuffle=True)\n",
    "tst_loader = torch.utils.data.DataLoader(tst_set, batch_size=len(tst_set), shuffle=True)"
   ]
  },
  {
   "cell_type": "code",
   "execution_count": 5,
   "metadata": {},
   "outputs": [],
   "source": [
    "device = torch.device(\"cuda\" if torch.cuda.is_available() else \"cpu\")\n",
    "net = Net().to(device)\n",
    "opt = torch.optim.SGD(net.parameters(), lr=0.001, weight_decay=0.1)"
   ]
  },
  {
   "cell_type": "code",
   "execution_count": 6,
   "metadata": {},
   "outputs": [],
   "source": [
    "def train():\n",
    "    \n",
    "    tst_data, tst_labels = next(iter(tst_loader))\n",
    "    tst_data = tst_data.to(device)\n",
    "    for i,(trn_data,_) in tqdm(enumerate(trn_loader)):\n",
    "        net.train()\n",
    "        trn_data = trn_data.to(device)\n",
    "\n",
    "        opt.zero_grad()\n",
    "\n",
    "        #Log-likelihood loss of the batch\n",
    "        trn_out = net(trn_data)\n",
    "        tst_out = net(tst_data)\n",
    "        mx = torch.max(tst_out)\n",
    "        loss1 = torch.mean( trn_out - mx )\n",
    "        loss2 = torch.log( torch.mean(torch.exp(tst_out - mx)) )\n",
    "        loss = -loss1 + loss2\n",
    "        loss.backward()\n",
    "\n",
    "        opt.step()\n",
    "        losses.append(loss.item())\n",
    "        if (i+1)%50 == 0:\n",
    "            class_w, class_std = eval(tst_data, tst_labels)\n",
    "            display_plot(class_w, class_std)"
   ]
  },
  {
   "cell_type": "code",
   "execution_count": 7,
   "metadata": {},
   "outputs": [],
   "source": [
    "def eval(tst_data, tst_labels):\n",
    "    tst_out = net(tst_data)\n",
    "    classes = [[] for i in range(10)]\n",
    "    for a,b in zip(tst_out, tst_labels):\n",
    "        w,y = torch.exp(a).item(),b.item()\n",
    "        classes[y].append(w)\n",
    "    \n",
    "    class_w = torch.tensor([torch.median(torch.tensor(classes[i])) for i in range(10)])\n",
    "    class_std = torch.tensor([torch.std(torch.tensor(classes[i])) for i in range(10)])\n",
    "    scale = torch.dot(class_w,torch.arange(10.0)) / torch.dot( class_w, class_w )\n",
    "    class_w *= scale\n",
    "    class_std *= scale\n",
    "    return class_w, class_std\n",
    "    \n",
    "def display_plot(class_w, class_std):\n",
    "    _,G = plt.subplots(1,2, figsize=(13,5))\n",
    "    G[0].plot(losses)\n",
    "    \n",
    "    G[1].errorbar(torch.arange(10.0).numpy(),class_w.numpy(),fmt='o',yerr=class_std.numpy())\n",
    "    G[1].plot(torch.arange(11.0).numpy())\n",
    "    G[1].set_ylim([0,10])\n",
    "\n",
    "    IPython.display.clear_output()\n",
    "    plt.show()\n",
    "\n",
    "def test():\n",
    "    tst_data, tst_labels = next(iter(tst_loader))\n",
    "    tst_data = tst_data.to(device)\n",
    "    class_w, class_std = eval(tst_data, tst_labels)\n",
    "    \n",
    "    plt.errorbar(torch.arange(10.0).numpy(),class_w.numpy()/10,fmt='o',yerr=class_std.numpy()/10)\n",
    "    plt.plot(torch.arange(10.0).numpy()/10)\n",
    "    plt.xticks(torch.arange(10))\n",
    "    ax1 = plt.gca()\n",
    "\n",
    "    ax1.set_ylabel(\"Weights\")\n",
    "    ax1.set_xlabel(\"Digits\")\n"
   ]
  },
  {
   "cell_type": "code",
   "execution_count": 8,
   "metadata": {},
   "outputs": [
    {
     "data": {
      "image/png": "[encoded data removed]",
      "text/plain": [
       "<Figure size 936x360 with 2 Axes>"
      ]
     },
     "metadata": {
      "needs_background": "light"
     },
     "output_type": "display_data"
    },
    {
     "name": "stderr",
     "output_type": "stream",
     "text": [
      "352it [00:47,  4.78it/s]\n"
     ]
    }
   ],
   "source": [
    "losses = []\n",
    "for i in range(20):\n",
    "    train()"
   ]
  }
 ],
 "metadata": {
  "kernelspec": {
   "display_name": "Python 3",
   "language": "python",
   "name": "python3"
  },
  "language_info": {
   "codemirror_mode": {
    "name": "ipython",
    "version": 3
   },
   "file_extension": ".py",
   "mimetype": "text/x-python",
   "name": "python",
   "nbconvert_exporter": "python",
   "pygments_lexer": "ipython3",
   "version": "3.6.7"
  }
 },
 "nbformat": 4,
 "nbformat_minor": 2
}
